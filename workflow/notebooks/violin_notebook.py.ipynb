{
 "cells": [
  {
   "cell_type": "code",
   "execution_count": null,
   "metadata": {
    "collapsed": true
   },
   "outputs": [],
   "source": [
    "from math import log10\n",
    "import os.path\n",
    "import sys\n",
    "import configparser\n",
    "\n",
    "import pandas as pd\n",
    "import seaborn as sns\n",
    "from matplotlib import pyplot as plt\n",
    "from Bio import SeqIO\n",
    "\n",
    "import csv\n",
    "import json"
   ]
  },
  {
   "cell_type": "code",
   "execution_count": null,
   "outputs": [],
   "source": [
    "# Functions\n",
    "def read_megares_v2_ontology(config):\n",
    "    # Create ontology dictionary from MEGARes ontology file\n",
    "    megares_ontology = dict()\n",
    "    hierarchy_dict = dict()\n",
    "    with open(config['DATABASE']['MEGARES_ONTOLOGY'], 'r') as ontology_tsv:\n",
    "        ontology_reader = csv.reader(ontology_tsv)\n",
    "        for row in ontology_reader:\n",
    "            # Skip column names\n",
    "            if row[0] == \"header\":\n",
    "                continue\n",
    "\n",
    "            typ = row[1]\n",
    "            cl = row[2]\n",
    "            mech = row[3]\n",
    "            group = row[4]\n",
    "\n",
    "            # Set up hiearachy dict. This will be our tree structure\n",
    "            if not typ in hierarchy_dict:\n",
    "                hierarchy_dict[typ] = {}\n",
    "\n",
    "            if not cl in hierarchy_dict[typ]:\n",
    "                hierarchy_dict[typ][cl] = {}\n",
    "\n",
    "            if not mech in hierarchy_dict[typ][cl]:\n",
    "                hierarchy_dict[typ][cl][mech] = []\n",
    "\n",
    "            if not group in hierarchy_dict[typ][cl][mech]:\n",
    "                hierarchy_dict[typ][cl][mech].append(group)\n",
    "\n",
    "            # FIll in our dict\n",
    "            megares_ontology[row[0]] = {\"class\": cl,\n",
    "                                        \"mechanism\": mech,\n",
    "                                        \"group\": group,\n",
    "                                        \"type\": typ\n",
    "                                        }\n",
    "    return megares_ontology, hierarchy_dict"
   ],
   "metadata": {
    "collapsed": false,
    "pycharm": {
     "name": "#%%\n"
    }
   }
  },
  {
   "cell_type": "code",
   "execution_count": null,
   "outputs": [],
   "source": [
    "def get_resistome(config, sample_name):\n",
    "    return sample_name + \".fastq\" + config['EXTENSION']['DEDUPLICATED'] + \"_\" + config['MISC']['RESISTOME_STRATEGY'] + config['EXTENSION']['RESISTOME_DIVERSITY']\n",
    "\n",
    "def get_reads_length(config, sample_name):\n",
    "    return sample_name + \".fastq\" + config['EXTENSION']['READS_LENGTH']\n"
   ],
   "metadata": {
    "collapsed": false,
    "pycharm": {
     "name": "#%%\n"
    }
   }
  },
  {
   "cell_type": "code",
   "execution_count": null,
   "outputs": [],
   "source": [
    "# Get info from snakemake\n",
    "samples_list = snakemake.params[0]\n",
    "config_file = snakemake.input[2]\n",
    "config = configparser.ConfigParser()\n",
    "config.read(config_file)\n",
    "output_plot = snakemake.output[0]"
   ],
   "metadata": {
    "collapsed": false,
    "pycharm": {
     "name": "#%%\n"
    }
   }
  },
  {
   "cell_type": "code",
   "execution_count": null,
   "outputs": [],
   "source": [
    "# Get megares genes size\n",
    "megares_gene_lengths = dict()\n",
    "for record in SeqIO.parse(config['DATABASE']['MEGARES'], \"fasta\"):\n",
    "    megares_gene_lengths[record.description] = len(record.seq)"
   ],
   "metadata": {
    "collapsed": false,
    "pycharm": {
     "name": "#%%\n"
    }
   }
  },
  {
   "cell_type": "code",
   "execution_count": null,
   "outputs": [],
   "source": [
    "# Get per sample size\n",
    "samples_size = dict()\n",
    "for sample in samples_list:\n",
    "    samples_size[sample] = 0\n",
    "    with open(get_reads_length(config, sample)) as json_file:\n",
    "        reads_lengths = json.load(json_file)\n",
    "        for read_name, length in reads_lengths.items():\n",
    "            samples_size[sample] += length"
   ],
   "metadata": {
    "collapsed": false,
    "pycharm": {
     "name": "#%%\n"
    }
   }
  },
  {
   "cell_type": "code",
   "execution_count": null,
   "outputs": [],
   "source": [
    "# Get per sample absolute abundance\n",
    "absolute_abundances = dict()\n",
    "\n",
    "for sample in samples_list:\n",
    "    sample_absolute_abundance = dict()\n",
    "    with open(get_resistome(config, sample)) as resistome_file:\n",
    "        resistome_reader = csv.reader(resistome_file)\n",
    "        for row in resistome_reader:\n",
    "            # Remove statistics and headers\n",
    "            if (row[0] == 'Statistics') or (row[0] == 'Resistome') or ('ARG_' in row[0]) or (row[0] == 'MEGARes Gene Header'):\n",
    "                continue\n",
    "\n",
    "            gene_acc = row[0]\n",
    "            gene_acc_hits = row[1]\n",
    "\n",
    "            if 'RequiresSNPConfirmation' in gene_acc:\n",
    "                continue\n",
    "\n",
    "            if gene_acc not in sample_absolute_abundance:\n",
    "                sample_absolute_abundance[gene_acc] = 0\n",
    "\n",
    "            sample_absolute_abundance[gene_acc] += int(gene_acc_hits)\n",
    "\n",
    "    absolute_abundances[sample] = sample_absolute_abundance"
   ],
   "metadata": {
    "collapsed": false,
    "pycharm": {
     "name": "#%%\n"
    }
   }
  },
  {
   "cell_type": "code",
   "execution_count": null,
   "outputs": [],
   "source": [
    "# Convert absolute abundances to relative abundance\n",
    "relative_abundances = {}\n",
    "for sample, sample_absolute_abundance in absolute_abundances.items():\n",
    "    sample_relative_abundance = {}\n",
    "    for gene_acc, gene_acc_hits in sample_absolute_abundance.items():\n",
    "        sample_relative_abundance[gene_acc] = log10((100 * float(gene_acc_hits)) / (float(megares_gene_lengths[gene_acc] * samples_size[sample])))\n",
    "\n",
    "    relative_abundances[sample] = sample_relative_abundance"
   ],
   "metadata": {
    "collapsed": false,
    "pycharm": {
     "name": "#%%\n"
    }
   }
  },
  {
   "cell_type": "code",
   "execution_count": null,
   "outputs": [],
   "source": [
    "# Plot\n",
    "df = pd.DataFrame.from_dict(relative_abundances)\n",
    "\n",
    "sns.set_style(\"whitegrid\")\n",
    "sns.set_context(\"paper\")\n",
    "ax = sns.violinplot(data=df, inner='box', palette='hls')\n",
    "ax.set(xlabel='Samples', ylabel='Log Relative Abundance')\n",
    "ax.set_xticklabels(ax.get_xticklabels(),rotation=-30, ha=\"left\")\n",
    "plt.gcf().subplots_adjust(bottom=0.30, right=0.85)\n",
    "ax.get_figure().savefig('violin_plot_all_samples.pdf')"
   ],
   "metadata": {
    "collapsed": false,
    "pycharm": {
     "name": "#%%\n"
    }
   }
  }
 ],
 "metadata": {
  "kernelspec": {
   "display_name": "Python 3",
   "language": "python",
   "name": "python3"
  },
  "language_info": {
   "codemirror_mode": {
    "name": "ipython",
    "version": 2
   },
   "file_extension": ".py",
   "mimetype": "text/x-python",
   "name": "python",
   "nbconvert_exporter": "python",
   "pygments_lexer": "ipython2",
   "version": "2.7.6"
  }
 },
 "nbformat": 4,
 "nbformat_minor": 0
}